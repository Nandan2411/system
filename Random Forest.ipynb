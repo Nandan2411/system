{
 "cells": [
  {
   "cell_type": "code",
   "execution_count": 3,
   "id": "c6cde6bb",
   "metadata": {},
   "outputs": [
    {
     "name": "stdout",
     "output_type": "stream",
     "text": [
      "   Pregnancies  Glucose  BloodPressure  SkinThickness  Insulin   BMI  \\\n",
      "0            6      148             72             35        0  33.6   \n",
      "1            1       85             66             29        0  26.6   \n",
      "2            8      183             64              0        0  23.3   \n",
      "3            1       89             66             23       94  28.1   \n",
      "4            0      137             40             35      168  43.1   \n",
      "\n",
      "   DiabetesPedigreeFunction  Age  Outcome  \n",
      "0                     0.627   50        1  \n",
      "1                     0.351   31        0  \n",
      "2                     0.672   32        1  \n",
      "3                     0.167   21        0  \n",
      "4                     2.288   33        1  \n",
      "Index(['Pregnancies', 'Glucose', 'BloodPressure', 'SkinThickness', 'Insulin',\n",
      "       'BMI', 'DiabetesPedigreeFunction', 'Age', 'Outcome'],\n",
      "      dtype='object')\n",
      "RandomForestClassifier()\n",
      "Accuracy: 0.8311688311688312\n",
      "Classification Report               precision    recall  f1-score   support\n",
      "\n",
      "           0       0.85      0.90      0.87        50\n",
      "           1       0.79      0.70      0.75        27\n",
      "\n",
      "    accuracy                           0.83        77\n",
      "   macro avg       0.82      0.80      0.81        77\n",
      "weighted avg       0.83      0.83      0.83        77\n",
      "\n",
      "DecisionTreeClassifier()\n",
      "Accuracy-DecisionTree : 0.7012987012987013\n",
      "Classification Report               precision    recall  f1-score   support\n",
      "\n",
      "           0       0.75      0.80      0.78        50\n",
      "           1       0.58      0.52      0.55        27\n",
      "\n",
      "    accuracy                           0.70        77\n",
      "   macro avg       0.67      0.66      0.66        77\n",
      "weighted avg       0.69      0.70      0.70        77\n",
      "\n"
     ]
    }
   ],
   "source": [
    "import pandas as pd\n",
    "import numpy as np\n",
    "data = pd.read_csv('pima.csv')\n",
    "print(data.head())\n",
    "\n",
    "from sklearn.model_selection import train_test_split\n",
    "from sklearn.ensemble import RandomForestClassifier\n",
    "from sklearn.metrics import accuracy_score,classification_report\n",
    "from sklearn.preprocessing import StandardScaler, MinMaxScaler\n",
    "print(data.columns)\n",
    "\n",
    "X=data.drop(\"Outcome\",axis=1)\n",
    "y=data[\"Outcome\"]\n",
    "\n",
    "scaler=StandardScaler()\n",
    "X_scaled=scaler.fit_transform(X)\n",
    "X_train,X_test,Y_train,Y_test=train_test_split(X_scaled,y,stratify=y,test_size=0.10,random_state=34)\n",
    "classifier = RandomForestClassifier(n_estimators=100)\n",
    "print(classifier.fit(X_train,Y_train))\n",
    "\n",
    "y_pred = classifier.predict(X_test)\n",
    "print(\"Accuracy:\",accuracy_score(Y_test,y_pred))\n",
    "print(\"Classification Report\",classification_report(Y_test,y_pred))\n",
    "\n",
    "from sklearn.tree import DecisionTreeClassifier\n",
    "clf=DecisionTreeClassifier()\n",
    "print(clf.fit(X_train,Y_train))\n",
    "\n",
    "Y_pred = clf.predict(X_test)\n",
    "from sklearn.metrics import accuracy_score\n",
    "print(\"Accuracy-DecisionTree :\",accuracy_score(Y_test,Y_pred))\n",
    "print(\"Classification Report\",classification_report(Y_test,Y_pred))"
   ]
  },
  {
   "cell_type": "code",
   "execution_count": null,
   "id": "75b6cd41",
   "metadata": {},
   "outputs": [],
   "source": []
  }
 ],
 "metadata": {
  "kernelspec": {
   "display_name": "Python 3 (ipykernel)",
   "language": "python",
   "name": "python3"
  },
  "language_info": {
   "codemirror_mode": {
    "name": "ipython",
    "version": 3
   },
   "file_extension": ".py",
   "mimetype": "text/x-python",
   "name": "python",
   "nbconvert_exporter": "python",
   "pygments_lexer": "ipython3",
   "version": "3.9.7"
  }
 },
 "nbformat": 4,
 "nbformat_minor": 5
}
